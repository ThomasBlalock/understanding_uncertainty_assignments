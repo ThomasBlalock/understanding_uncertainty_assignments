{
 "cells": [
  {
   "cell_type": "markdown",
   "id": "1d439b3b",
   "metadata": {},
   "source": [
    "### Exercise 3: Intro to A/B Testing\n",
    "- Go here, and read about this study: https://www.clinicaltrials.gov/study/NCT01985360\n",
    "- Read the Study Overview and explain what the goal of the trial is \n",
    "- Read the Study Plan and explain how it was designed and why -- there's lots of medical jargon, but the main point is how patients were assigned to interventions. \n",
    "- Read the Results Posted: Go to **Outcome Measures**. Explain how table 1 (\"Incidence of Death from Any Cause or Myocardial Infarction\") is a contingency table. These are the data for this exercise.\n",
    "- What is the difference in surival rates between the invasive strategy and the conservative strategy?\n",
    "- Bootstrap the survival rates for the two groups, and plot them as KDEs and ECDFs against one another\n",
    "- Bootstrap the difference in surival rates, and plot it as a KDE and ECDF\n",
    "- Is this an effective health intervention? Explain your answer clearly\n",
    "\n",
    "This would be what CS people call **A/B testing** and everyone else called a **randomized controlled trial**: Using randomized assignment to detect the difference in outcomes between two groups. (We've just done a non-parametric version of a two-sample t-test.)"
   ]
  }
 ],
 "metadata": {
  "language_info": {
   "name": "python"
  }
 },
 "nbformat": 4,
 "nbformat_minor": 5
}
