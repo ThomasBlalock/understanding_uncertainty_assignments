{
 "cells": [
  {
   "cell_type": "markdown",
   "id": "dd21efe9",
   "metadata": {},
   "source": [
    "# Assignment 5\n",
    "### Do all four questions."
   ]
  },
  {
   "cell_type": "markdown",
   "id": "1ee9b4e8",
   "metadata": {},
   "source": [
    "**1.** Let's review some basic matrix multiplication. When you have an $M \\times N$ matrix $A$ with $M$ rows and $N$ columns, \n",
    "$$\n",
    "A= \\left[ \\begin{array}{cccc} a_{11} & a_{12} & ... & a_{1N} \\\\\n",
    "a_{21} & a_{22} & ... & a_{2N} \\\\\n",
    "\\vdots & \\vdots & ... & \\vdots \\\\\n",
    "a_{M1} & a_{M2} & ... & a_{MN} \n",
    "\\end{array} \\right],\n",
    "$$\n",
    "and you right-multiply it by a vector\n",
    "$$\n",
    "x = \\left[ \\begin{array}{c} x_1 \\\\ x_2 \\\\ \\vdots \\\\ x_N \n",
    "\\end{array} \\right],\n",
    "$$\n",
    "you get\n",
    "$$\n",
    "Ax = \\left[ \\begin{array}{c} \\sum_{i=1}^N a_{1i} x_i \\\\ \\sum_{i=1}^N a_{2i} x_i \\\\ \\vdots \\\\ \\sum_{i=1}^N a_{Mi} x_i \n",
    "\\end{array} \\right].\n",
    "$$\n",
    "This is just \"matrix row times column vector\" element-by-element, stacking the results into a new vector.\n",
    "\n",
    "For this to make sense, $N$ must be the same for the matrix and the vector, but $M$ can be different from $N$. \n",
    "\n",
    "Let's play with some NumPy to see this. First we'll define a matrix $A$:"
   ]
  },
  {
   "cell_type": "code",
   "execution_count": 2,
   "id": "33df3579",
   "metadata": {},
   "outputs": [
    {
     "data": {
      "text/plain": [
       "array([[1, 2, 3],\n",
       "       [4, 5, 6],\n",
       "       [7, 8, 9]])"
      ]
     },
     "execution_count": 2,
     "metadata": {},
     "output_type": "execute_result"
    }
   ],
   "source": [
    "import numpy as np\n",
    "\n",
    "A = np.array([ [1,2,3],\n",
    "              [4,5,6],\n",
    "              [7,8,9]])\n",
    "A"
   ]
  },
  {
   "cell_type": "markdown",
   "id": "94b1b3ac",
   "metadata": {},
   "source": [
    "a. Multiply $A$ times each of the following vectors using the @ operator. Explain which part of the $A$ matrix gets selected and explain why, using the definition of matrix multiplication. "
   ]
  },
  {
   "cell_type": "code",
   "execution_count": 3,
   "id": "5b6148d2",
   "metadata": {},
   "outputs": [
    {
     "name": "stdout",
     "output_type": "stream",
     "text": [
      "The first column is selected because the first element of e_1 is 1 and all other elements are 0.\n",
      "Since each row will be a dot product of e_1 and the corresponding row in A, the first row will be:\n",
      "Column 1, row 1 * 1 + column 2, row 1 * 0 + column 3, row 1 * 0 = column 1 row 1 of A\n",
      "[1 4 7]\n",
      "\n",
      "For the exact same reason, this will be the second column:\n",
      "[2 5 8]\n",
      "\n",
      "For the exact same reason, this will be the third column:\n",
      "[3 6 9]\n"
     ]
    }
   ],
   "source": [
    "e_1 = np.array([1,0,0])\n",
    "e_2 = np.array([0,1,0])\n",
    "e_3 = np.array([0,0,1])\n",
    "\n",
    "print(\"The first column is selected because the first element of e_1 is 1 and all other elements are 0.\")\n",
    "print(\"Since each row will be a dot product of e_1 and the corresponding row in A, the first row will be:\")\n",
    "print(\"Column 1, row 1 * 1 + column 2, row 1 * 0 + column 3, row 1 * 0 = column 1 row 1 of A\")\n",
    "print(A @ e_1)\n",
    "print(\"\\nFor the exact same reason, this will be the second column:\")\n",
    "print(A @ e_2)\n",
    "print(\"\\nFor the exact same reason, this will be the third column:\")\n",
    "print(A @ e_3)"
   ]
  },
  {
   "cell_type": "markdown",
   "id": "72a4704e",
   "metadata": {},
   "source": [
    "b. Now multiply $A$ times $u = (1,1,1)$. Explain the logic of the result with the definition of matrix multiplication."
   ]
  },
  {
   "cell_type": "code",
   "execution_count": 4,
   "id": "5bf73f9b",
   "metadata": {},
   "outputs": [
    {
     "name": "stdout",
     "output_type": "stream",
     "text": [
      "This multiplication will result in a vector with each of the rows of A added up.\n",
      "This is because this multiplication does a dot product between each row of A and u.\n",
      "[ 6. 15. 24.]\n"
     ]
    }
   ],
   "source": [
    "u = np.ones(3)\n",
    "print(\"This multiplication will result in a vector with each of the rows of A added up.\")\n",
    "print(\"This is because this multiplication does a dot product between each row of A and u.\")\n",
    "print(A @ u)"
   ]
  },
  {
   "cell_type": "markdown",
   "id": "dde75eab",
   "metadata": {},
   "source": [
    "c. Whenever a matrix has 1's on the diagonal and zeros everywhere else, we call it an **identity matrix**. What happens when you multiple $A$ times $x$ below? What happens when you multiple an identity matrix times any vector? Explain your result with the definition of matrix multiplication."
   ]
  },
  {
   "cell_type": "code",
   "execution_count": 5,
   "id": "b0d349c4",
   "metadata": {},
   "outputs": [
    {
     "name": "stdout",
     "output_type": "stream",
     "text": [
      "Multiplying any vector by an identity matrix results in the same vector.\n",
      "The is because the element corresponding to position i of the vector is multiplied by the element corresponding to position i of the identity matrix, which is 1 and all other elements in that row are 0.\n",
      "[-2  4 11]\n"
     ]
    }
   ],
   "source": [
    "A = np.array([ [1,0,0],\n",
    "              [0,1,0],\n",
    "              [0,0,1]])\n",
    "x = np.array([-2,4,11])\n",
    "\n",
    "print(\"Multiplying any vector by an identity matrix results in the same vector.\")\n",
    "print(\"The is because the element corresponding to position i of the vector is multiplied by the element corresponding to position i of the identity matrix, which is 1 and all other elements in that row are 0.\")\n",
    "print(A @ x)\n"
   ]
  },
  {
   "cell_type": "markdown",
   "id": "57141925",
   "metadata": {},
   "source": [
    "d. What if every row and column sum to 1, but the 1's are no longer on the diagonal? Multiple $A$ times $X$ below and explain the result. Create another matrix whose rows and columns sum to 1, but is not an identity matrix, and show how it permutes the values of $x$. "
   ]
  },
  {
   "cell_type": "code",
   "execution_count": null,
   "id": "83a9ed11",
   "metadata": {},
   "outputs": [
    {
     "data": {
      "text/plain": [
       "array([11, -2,  4])"
      ]
     },
     "execution_count": 113,
     "metadata": {},
     "output_type": "execute_result"
    }
   ],
   "source": [
    "A = np.array([ [0,0,1],\n",
    "              [1,0,0],\n",
    "              [0,1,0]])\n",
    "x = np.array([-2,4,11])\n",
    "\n",
    "print(\"This will shuffle around the numbers in the vector if there is a 1 in each row and a 1 in each column and 0s everywhere else.\")\n",
    "print(\"Where r is the row and c is the column, having a 1 in the r, c position will result in the c-th element of the vector being placed in the r-th position in the new vector.\")\n",
    "print(A @ x)\n",
    "print(\"If they sum to 1 but aren't themselves 1, then it will take a weighted average of the elements in the vector,\" \\\n",
    "\" with element i's weight corresponding with the value corresponding to column i in any given row.\")\n",
    "A = np.array([ [0.5,0.3,0.2],\n",
    "              [0.5,0.2,0.3],\n",
    "              [0,0.5,0.5]])\n",
    "print(A @ x)\n"
   ]
  },
  {
   "cell_type": "markdown",
   "id": "611c26c3",
   "metadata": {},
   "source": [
    "e. The next matrix $A$ could be a Markov transition matrix: Its columns sum to 1, and each entry $a_{ij}$ can be interpreted as the proportion of observations who moved from state $j$ to state $i$. Multiply $A$ by each of the vectors $e_1$, $e_2$, and $e_3$, and explain your results."
   ]
  },
  {
   "cell_type": "code",
   "execution_count": 6,
   "id": "aff4fb97",
   "metadata": {},
   "outputs": [
    {
     "name": "stdout",
     "output_type": "stream",
     "text": [
      "[[0.50052958 0.24049286 0.18358131]\n",
      " [0.02574731 0.39251588 0.37907577]\n",
      " [0.47372311 0.36699127 0.43734292]]\n"
     ]
    }
   ],
   "source": [
    "rng = np.random.default_rng(100)\n",
    "A = rng.random((3,3)) # Generate a random 3X3 matrix\n",
    "sums = np.sum(A,axis=0) # Column sums\n",
    "A = A/sums # Normalize the columns so they sum to 1\n",
    "print(A)"
   ]
  },
  {
   "cell_type": "code",
   "execution_count": 7,
   "id": "b1c473a9",
   "metadata": {},
   "outputs": [
    {
     "name": "stdout",
     "output_type": "stream",
     "text": [
      "[0.50052958 0.02574731 0.47372311]\n",
      "[0.24049286 0.39251588 0.36699127]\n",
      "[0.18358131 0.37907577 0.43734292]\n",
      "Each row of the resultant vectors is the probability of transitioning from position i to each position in the state space from position i where i is the element of the e_i that is 1.\n"
     ]
    }
   ],
   "source": [
    "print(A @ e_1)\n",
    "print(A @ e_2)\n",
    "print(A @ e_3)\n",
    "print(\"Each row of the resultant vectors is the probability of transitioning from position i to each position in the state space\" \\\n",
    "\" from position i where i is the element of the e_i that is 1.\")"
   ]
  },
  {
   "cell_type": "markdown",
   "id": "0647bfa7",
   "metadata": {},
   "source": [
    "f. For each of the vectors $e_1, e_2, e_3$, multiple $A$ times that vector 5 times. What answer do you get for each starting vector? Describe the behavior you observe."
   ]
  },
  {
   "cell_type": "code",
   "execution_count": 8,
   "id": "4ab0de71",
   "metadata": {},
   "outputs": [
    {
     "name": "stdout",
     "output_type": "stream",
     "text": [
      "[0.29266551 0.27862515 0.42870935]\n",
      "[0.29197422 0.27979983 0.42822595]\n",
      "[0.29171646 0.2802254  0.42805814]\n",
      "As you add more iterations, the vectors seem to converge to the same stable state likelihood.\n"
     ]
    }
   ],
   "source": [
    "e = e_1\n",
    "for i in range(5):\n",
    "    e = A @ e\n",
    "print(e)\n",
    "\n",
    "e = e_2\n",
    "for i in range(5):\n",
    "    e = A @ e\n",
    "print(e)\n",
    "\n",
    "e = e_3\n",
    "for i in range(5):\n",
    "    e = A @ e\n",
    "print(e)\n",
    "\n",
    "print(\"As you add more iterations, the vectors seem to converge to the same stable state likelihood.\")"
   ]
  },
  {
   "cell_type": "markdown",
   "id": "fa2c9a93",
   "metadata": {},
   "source": [
    "*2.* Let's consider a simple Markov transition matrix over two states:\n",
    "$$\n",
    "T = \\left[ \\begin{array}{cc} p_{1\\leftarrow 1} &  p_{1\\leftarrow 2} \\\\\n",
    "p_{2 \\leftarrow 1} & p_{2 \\leftarrow 2} \\end{array}\\right] \n",
    "$$\n",
    "The arrows help visualize the transition a bit: This is the same index notation as usual, $p_{ij}$, but writing it $p_{i \\leftarrow j}$ emphasizes that it's the proportion of times that state $j$ transitions to state $i$. Below, $T$ is given by\n",
    "$$\n",
    "T = \\left[ \\begin{array}{cc} .25 & .5 \\\\\n",
    ".75 & .5 \\end{array}\\right].\n",
    "$$\n",
    "\n",
    "- (a) Start in state 1, at the initial condition $[1,0]$. Multiply that vector by $T$. Write out the result in terms of the formula and compute the result in a code chunk below. What is this object you're looking at, in terms of proportions and transitions?\n",
    "- (b) Multiple by $T$ again. What do you get? This isn't a column of $T$. Explain in words what it is. (Hint: A forecast of what in what period?)\n",
    "- (c) Keep multiplying the current vector of outcomes by $T$. When does it start to settle down without changing further?\n",
    "- (d) Do the above analysis again, starting from the initial condition $[0,1]$. Do you get a different result?\n",
    "- The take-away is that, in the long run, these chains settle down into the long-run proportions, and the sensitivity on initial conditions vanishes. \n"
   ]
  },
  {
   "cell_type": "code",
   "execution_count": 9,
   "id": "4b6a775f",
   "metadata": {},
   "outputs": [
    {
     "name": "stdout",
     "output_type": "stream",
     "text": [
      "A@[1,0]\n",
      "[0.25 0.75]\n",
      "A^2@[1,0]\n",
      "[0.4375 0.5625]\n",
      "A^2@[1,0]\n",
      "29\n",
      "The number of iterations required to converge to the same stable state is  28\n",
      "The (stable) state at 29 is  [0.4 0.6]\n",
      "The (stable) state at 28 is  [0.4 0.6]\n",
      "\n",
      "Convergence from [0,1]:\n",
      "28\n",
      "The number of iterations required to converge to the same stable state is  27\n",
      "The (stable) state at 28 is  [0.4 0.6]\n",
      "The (stable) state at 27 is  [0.4 0.6]\n"
     ]
    }
   ],
   "source": [
    "T = np.array([[ 1/4, 1/2],\n",
    "                 [ 3/4, 1/2 ]])\n",
    "print(\"A@[1,0]\")\n",
    "print(T @ np.array([1, 0]))\n",
    "print(\"A^2@[1,0]\")\n",
    "print(T @ T @ np.array([1, 0]))\n",
    "print(\"A^2@[1,0]\")\n",
    "def exp_matmul(T, n):\n",
    "    if n == 0:\n",
    "        return np.array([1, 0])\n",
    "    else:\n",
    "        return T @ exp_matmul(T, n-1)\n",
    "n = 2\n",
    "while True:\n",
    "    if (exp_matmul(T, n) == exp_matmul(T, n-1)).all():\n",
    "        print(n)\n",
    "        break\n",
    "    n += 1\n",
    "print(\"The number of iterations required to converge to the same stable state is \", n-1)\n",
    "print(f\"The (stable) state at {n} is \", exp_matmul(T, n))\n",
    "print(f\"The (stable) state at {n-1} is \", exp_matmul(T, n-1))\n",
    "\n",
    "print(\"\\nConvergence from [0,1]:\")\n",
    "def exp_matmul(T, n):\n",
    "    if n == 0:\n",
    "        return np.array([0, 1])\n",
    "    else:\n",
    "        return T @ exp_matmul(T, n-1)\n",
    "n = 2\n",
    "while True:\n",
    "    if (exp_matmul(T, n) == exp_matmul(T, n-1)).all():\n",
    "        print(n)\n",
    "        break\n",
    "    n += 1\n",
    "print(\"The number of iterations required to converge to the same stable state is \", n-1)\n",
    "print(f\"The (stable) state at {n} is \", exp_matmul(T, n))\n",
    "print(f\"The (stable) state at {n-1} is \", exp_matmul(T, n-1))"
   ]
  },
  {
   "cell_type": "markdown",
   "id": "921592e9",
   "metadata": {},
   "source": [
    "3. Weather data\n",
    "\n",
    "- Load the `cville_weather.csv` data. This includes data from Jan 4, 2024 to Feb 2, 2025. Are there any missing data issues?\n"
   ]
  },
  {
   "cell_type": "code",
   "execution_count": 32,
   "id": "80081871",
   "metadata": {},
   "outputs": [
    {
     "data": {
      "text/html": [
       "<div>\n",
       "<style scoped>\n",
       "    .dataframe tbody tr th:only-of-type {\n",
       "        vertical-align: middle;\n",
       "    }\n",
       "\n",
       "    .dataframe tbody tr th {\n",
       "        vertical-align: top;\n",
       "    }\n",
       "\n",
       "    .dataframe thead th {\n",
       "        text-align: right;\n",
       "    }\n",
       "</style>\n",
       "<table border=\"1\" class=\"dataframe\">\n",
       "  <thead>\n",
       "    <tr style=\"text-align: right;\">\n",
       "      <th></th>\n",
       "      <th>0</th>\n",
       "      <th>1</th>\n",
       "      <th>271</th>\n",
       "    </tr>\n",
       "  </thead>\n",
       "  <tbody>\n",
       "    <tr>\n",
       "      <th>STATION</th>\n",
       "      <td>US1VACRC002</td>\n",
       "      <td>US1VACRC002</td>\n",
       "      <td>US1VAAB0010</td>\n",
       "    </tr>\n",
       "    <tr>\n",
       "      <th>NAME</th>\n",
       "      <td>CHARLOTTESVILLE 0.5 NNE, VA US</td>\n",
       "      <td>CHARLOTTESVILLE 0.5 NNE, VA US</td>\n",
       "      <td>CHARLOTTESVILLE 8.4 W, VA US</td>\n",
       "    </tr>\n",
       "    <tr>\n",
       "      <th>DATE</th>\n",
       "      <td>2024-01-04</td>\n",
       "      <td>2024-01-07</td>\n",
       "      <td>2024-01-08</td>\n",
       "    </tr>\n",
       "    <tr>\n",
       "      <th>DAPR</th>\n",
       "      <td>NaN</td>\n",
       "      <td>NaN</td>\n",
       "      <td>NaN</td>\n",
       "    </tr>\n",
       "    <tr>\n",
       "      <th>DAPR_ATTRIBUTES</th>\n",
       "      <td>NaN</td>\n",
       "      <td>NaN</td>\n",
       "      <td>NaN</td>\n",
       "    </tr>\n",
       "    <tr>\n",
       "      <th>MDPR</th>\n",
       "      <td>NaN</td>\n",
       "      <td>NaN</td>\n",
       "      <td>NaN</td>\n",
       "    </tr>\n",
       "    <tr>\n",
       "      <th>MDPR_ATTRIBUTES</th>\n",
       "      <td>NaN</td>\n",
       "      <td>NaN</td>\n",
       "      <td>NaN</td>\n",
       "    </tr>\n",
       "    <tr>\n",
       "      <th>PRCP</th>\n",
       "      <td>0.03</td>\n",
       "      <td>1.08</td>\n",
       "      <td>0.0</td>\n",
       "    </tr>\n",
       "    <tr>\n",
       "      <th>PRCP_ATTRIBUTES</th>\n",
       "      <td>,,N</td>\n",
       "      <td>,,N</td>\n",
       "      <td>,,N</td>\n",
       "    </tr>\n",
       "    <tr>\n",
       "      <th>SNOW</th>\n",
       "      <td>NaN</td>\n",
       "      <td>NaN</td>\n",
       "      <td>0.0</td>\n",
       "    </tr>\n",
       "    <tr>\n",
       "      <th>SNOW_ATTRIBUTES</th>\n",
       "      <td>NaN</td>\n",
       "      <td>NaN</td>\n",
       "      <td>,,N</td>\n",
       "    </tr>\n",
       "    <tr>\n",
       "      <th>SNWD</th>\n",
       "      <td>NaN</td>\n",
       "      <td>NaN</td>\n",
       "      <td>NaN</td>\n",
       "    </tr>\n",
       "    <tr>\n",
       "      <th>SNWD_ATTRIBUTES</th>\n",
       "      <td>NaN</td>\n",
       "      <td>NaN</td>\n",
       "      <td>NaN</td>\n",
       "    </tr>\n",
       "  </tbody>\n",
       "</table>\n",
       "</div>"
      ],
      "text/plain": [
       "                                            0    \\\n",
       "STATION                             US1VACRC002   \n",
       "NAME             CHARLOTTESVILLE 0.5 NNE, VA US   \n",
       "DATE                                 2024-01-04   \n",
       "DAPR                                        NaN   \n",
       "DAPR_ATTRIBUTES                             NaN   \n",
       "MDPR                                        NaN   \n",
       "MDPR_ATTRIBUTES                             NaN   \n",
       "PRCP                                       0.03   \n",
       "PRCP_ATTRIBUTES                             ,,N   \n",
       "SNOW                                        NaN   \n",
       "SNOW_ATTRIBUTES                             NaN   \n",
       "SNWD                                        NaN   \n",
       "SNWD_ATTRIBUTES                             NaN   \n",
       "\n",
       "                                            1                             271  \n",
       "STATION                             US1VACRC002                   US1VAAB0010  \n",
       "NAME             CHARLOTTESVILLE 0.5 NNE, VA US  CHARLOTTESVILLE 8.4 W, VA US  \n",
       "DATE                                 2024-01-07                    2024-01-08  \n",
       "DAPR                                        NaN                           NaN  \n",
       "DAPR_ATTRIBUTES                             NaN                           NaN  \n",
       "MDPR                                        NaN                           NaN  \n",
       "MDPR_ATTRIBUTES                             NaN                           NaN  \n",
       "PRCP                                       1.08                           0.0  \n",
       "PRCP_ATTRIBUTES                             ,,N                           ,,N  \n",
       "SNOW                                        NaN                           0.0  \n",
       "SNOW_ATTRIBUTES                             NaN                           ,,N  \n",
       "SNWD                                        NaN                           NaN  \n",
       "SNWD_ATTRIBUTES                             NaN                           NaN  "
      ]
     },
     "execution_count": 32,
     "metadata": {},
     "output_type": "execute_result"
    }
   ],
   "source": [
    "import os\n",
    "import pandas as pd\n",
    "#os.chdir('/home/blalo/uva/understanding_uncertainty/group')\n",
    "df = pd.read_csv('../data/cville_weather.csv')\n",
    "df = df.sort_values(by='DATE')\n",
    "df.head(3).T"
   ]
  },
  {
   "cell_type": "code",
   "execution_count": 33,
   "id": "f6fa7e06",
   "metadata": {},
   "outputs": [
    {
     "name": "stdout",
     "output_type": "stream",
     "text": [
      "STATION 0\n",
      "NAME 0\n",
      "DATE 0\n",
      "DAPR 399\n",
      "DAPR_ATTRIBUTES 399\n",
      "MDPR 399\n",
      "MDPR_ATTRIBUTES 399\n",
      "PRCP 12\n",
      "PRCP_ATTRIBUTES 12\n",
      "SNOW 188\n",
      "SNOW_ATTRIBUTES 188\n",
      "SNWD 410\n",
      "SNWD_ATTRIBUTES 410\n",
      "\n",
      "There seems to be significant missing data issues :(\n"
     ]
    }
   ],
   "source": [
    "# Count missing values in all columns separately\n",
    "for col in df.columns:\n",
    "    print(col, df[col].isna().sum())\n",
    "print(\"\\nThere seems to be significant missing data issues :(\")"
   ]
  },
  {
   "cell_type": "markdown",
   "id": "62307062",
   "metadata": {},
   "source": [
    "- Based on the precipitation variable, `PRCP`, make a new variable called `rain` that takes the value 1 if `PRCP`>0 and 0 otherwise.\n"
   ]
  },
  {
   "cell_type": "code",
   "execution_count": 34,
   "id": "15a45a5c",
   "metadata": {},
   "outputs": [
    {
     "data": {
      "text/html": [
       "<div>\n",
       "<style scoped>\n",
       "    .dataframe tbody tr th:only-of-type {\n",
       "        vertical-align: middle;\n",
       "    }\n",
       "\n",
       "    .dataframe tbody tr th {\n",
       "        vertical-align: top;\n",
       "    }\n",
       "\n",
       "    .dataframe thead th {\n",
       "        text-align: right;\n",
       "    }\n",
       "</style>\n",
       "<table border=\"1\" class=\"dataframe\">\n",
       "  <thead>\n",
       "    <tr style=\"text-align: right;\">\n",
       "      <th></th>\n",
       "      <th>0</th>\n",
       "      <th>1</th>\n",
       "      <th>271</th>\n",
       "    </tr>\n",
       "  </thead>\n",
       "  <tbody>\n",
       "    <tr>\n",
       "      <th>STATION</th>\n",
       "      <td>US1VACRC002</td>\n",
       "      <td>US1VACRC002</td>\n",
       "      <td>US1VAAB0010</td>\n",
       "    </tr>\n",
       "    <tr>\n",
       "      <th>NAME</th>\n",
       "      <td>CHARLOTTESVILLE 0.5 NNE, VA US</td>\n",
       "      <td>CHARLOTTESVILLE 0.5 NNE, VA US</td>\n",
       "      <td>CHARLOTTESVILLE 8.4 W, VA US</td>\n",
       "    </tr>\n",
       "    <tr>\n",
       "      <th>DATE</th>\n",
       "      <td>2024-01-04</td>\n",
       "      <td>2024-01-07</td>\n",
       "      <td>2024-01-08</td>\n",
       "    </tr>\n",
       "    <tr>\n",
       "      <th>DAPR</th>\n",
       "      <td>NaN</td>\n",
       "      <td>NaN</td>\n",
       "      <td>NaN</td>\n",
       "    </tr>\n",
       "    <tr>\n",
       "      <th>DAPR_ATTRIBUTES</th>\n",
       "      <td>NaN</td>\n",
       "      <td>NaN</td>\n",
       "      <td>NaN</td>\n",
       "    </tr>\n",
       "    <tr>\n",
       "      <th>MDPR</th>\n",
       "      <td>NaN</td>\n",
       "      <td>NaN</td>\n",
       "      <td>NaN</td>\n",
       "    </tr>\n",
       "    <tr>\n",
       "      <th>MDPR_ATTRIBUTES</th>\n",
       "      <td>NaN</td>\n",
       "      <td>NaN</td>\n",
       "      <td>NaN</td>\n",
       "    </tr>\n",
       "    <tr>\n",
       "      <th>PRCP</th>\n",
       "      <td>0.03</td>\n",
       "      <td>1.08</td>\n",
       "      <td>0.0</td>\n",
       "    </tr>\n",
       "    <tr>\n",
       "      <th>PRCP_ATTRIBUTES</th>\n",
       "      <td>,,N</td>\n",
       "      <td>,,N</td>\n",
       "      <td>,,N</td>\n",
       "    </tr>\n",
       "    <tr>\n",
       "      <th>SNOW</th>\n",
       "      <td>NaN</td>\n",
       "      <td>NaN</td>\n",
       "      <td>0.0</td>\n",
       "    </tr>\n",
       "    <tr>\n",
       "      <th>SNOW_ATTRIBUTES</th>\n",
       "      <td>NaN</td>\n",
       "      <td>NaN</td>\n",
       "      <td>,,N</td>\n",
       "    </tr>\n",
       "    <tr>\n",
       "      <th>SNWD</th>\n",
       "      <td>NaN</td>\n",
       "      <td>NaN</td>\n",
       "      <td>NaN</td>\n",
       "    </tr>\n",
       "    <tr>\n",
       "      <th>SNWD_ATTRIBUTES</th>\n",
       "      <td>NaN</td>\n",
       "      <td>NaN</td>\n",
       "      <td>NaN</td>\n",
       "    </tr>\n",
       "    <tr>\n",
       "      <th>rain</th>\n",
       "      <td>1</td>\n",
       "      <td>1</td>\n",
       "      <td>0</td>\n",
       "    </tr>\n",
       "  </tbody>\n",
       "</table>\n",
       "</div>"
      ],
      "text/plain": [
       "                                            0    \\\n",
       "STATION                             US1VACRC002   \n",
       "NAME             CHARLOTTESVILLE 0.5 NNE, VA US   \n",
       "DATE                                 2024-01-04   \n",
       "DAPR                                        NaN   \n",
       "DAPR_ATTRIBUTES                             NaN   \n",
       "MDPR                                        NaN   \n",
       "MDPR_ATTRIBUTES                             NaN   \n",
       "PRCP                                       0.03   \n",
       "PRCP_ATTRIBUTES                             ,,N   \n",
       "SNOW                                        NaN   \n",
       "SNOW_ATTRIBUTES                             NaN   \n",
       "SNWD                                        NaN   \n",
       "SNWD_ATTRIBUTES                             NaN   \n",
       "rain                                          1   \n",
       "\n",
       "                                            1                             271  \n",
       "STATION                             US1VACRC002                   US1VAAB0010  \n",
       "NAME             CHARLOTTESVILLE 0.5 NNE, VA US  CHARLOTTESVILLE 8.4 W, VA US  \n",
       "DATE                                 2024-01-07                    2024-01-08  \n",
       "DAPR                                        NaN                           NaN  \n",
       "DAPR_ATTRIBUTES                             NaN                           NaN  \n",
       "MDPR                                        NaN                           NaN  \n",
       "MDPR_ATTRIBUTES                             NaN                           NaN  \n",
       "PRCP                                       1.08                           0.0  \n",
       "PRCP_ATTRIBUTES                             ,,N                           ,,N  \n",
       "SNOW                                        NaN                           0.0  \n",
       "SNOW_ATTRIBUTES                             NaN                           ,,N  \n",
       "SNWD                                        NaN                           NaN  \n",
       "SNWD_ATTRIBUTES                             NaN                           NaN  \n",
       "rain                                          1                             0  "
      ]
     },
     "execution_count": 34,
     "metadata": {},
     "output_type": "execute_result"
    }
   ],
   "source": [
    "df['rain'] = df['PRCP'] > 0\n",
    "df['rain'] = df['rain'].astype(int)\n",
    "df.head(3).T"
   ]
  },
  {
   "cell_type": "markdown",
   "id": "1f21f9ad",
   "metadata": {},
   "source": [
    "- Build a two-state Markov chain over the states 0 and 1 for the `rain` variable. \n"
   ]
  },
  {
   "cell_type": "code",
   "execution_count": 35,
   "id": "cb39b207",
   "metadata": {},
   "outputs": [
    {
     "data": {
      "text/plain": [
       "array([[0.76293103, 0.30898876],\n",
       "       [0.23706897, 0.69101124]])"
      ]
     },
     "execution_count": 35,
     "metadata": {},
     "output_type": "execute_result"
    }
   ],
   "source": [
    "df_rain_transitions = pd.crosstab(df['rain'].shift(1), df['rain'])\n",
    "T = df_rain_transitions.div(df_rain_transitions.sum(axis=1), axis=0)\n",
    "T = (T.values).T\n",
    "T"
   ]
  },
  {
   "cell_type": "markdown",
   "id": "81b0f5fa",
   "metadata": {},
   "source": [
    "- For your chain from c, how likely is it to rain if it was rainy yesterday? How likely is it to rain if it was clear yesterday?\n"
   ]
  },
  {
   "cell_type": "code",
   "execution_count": 36,
   "id": "709990d1",
   "metadata": {},
   "outputs": [
    {
     "name": "stdout",
     "output_type": "stream",
     "text": [
      "Odds of rain if it rained yesterday:  0.6910112359550562\n",
      "Odds of rain if it did not rain yesterday:  0.23706896551724138\n"
     ]
    }
   ],
   "source": [
    "print(\"Odds of rain if it rained yesterday: \", T[1][1])\n",
    "print(\"Odds of rain if it did not rain yesterday: \", T[1][0])"
   ]
  },
  {
   "cell_type": "markdown",
   "id": "fe09781b",
   "metadata": {},
   "source": [
    "- Starting from a clear day, forecast the distribution. How quickly does it converge to a fixed result? What if you start from a rainy day?\n"
   ]
  },
  {
   "cell_type": "code",
   "execution_count": 37,
   "id": "8bab781c",
   "metadata": {},
   "outputs": [
    {
     "name": "stdout",
     "output_type": "stream",
     "text": [
      "\n",
      "Convergence from rainy day:\n",
      "The number of iterations required to converge to the same stable state is  47\n",
      "The (stable) state at 48 is  [0.56585366 0.43414634]\n",
      "The (stable) state at 47 is  [0.56585366 0.43414634]\n",
      "\n",
      "Convergence from non-rainy day:\n",
      "The number of iterations required to converge to the same stable state is  47\n",
      "The (stable) state at 48 is  [0.56585366 0.43414634]\n",
      "The (stable) state at 47 is  [0.56585366 0.43414634]\n"
     ]
    }
   ],
   "source": [
    "print(\"\\nConvergence from rainy day:\")\n",
    "def exp_matmul(T, n, init_state):\n",
    "    if n == 0:\n",
    "        return init_state\n",
    "    else:\n",
    "        return T @ exp_matmul(T, n-1, init_state)\n",
    "n = 2\n",
    "while True:\n",
    "    if (exp_matmul(T, n, np.array([0, 1])) == exp_matmul(T, n-1, np.array([0, 1]))).all():\n",
    "        break\n",
    "    n += 1\n",
    "print(\"The number of iterations required to converge to the same stable state is \", n-1)\n",
    "print(f\"The (stable) state at {n} is \", exp_matmul(T, n, np.array([0, 1])))\n",
    "print(f\"The (stable) state at {n-1} is \", exp_matmul(T, n-1, np.array([0, 1])))\n",
    "\n",
    "print(\"\\nConvergence from non-rainy day:\")\n",
    "n = 2\n",
    "while True:\n",
    "    if (exp_matmul(T, n, np.array([1, 0])) == exp_matmul(T, n-1, np.array([1, 0]))).all():\n",
    "        break\n",
    "    n += 1\n",
    "print(\"The number of iterations required to converge to the same stable state is \", n-1)\n",
    "print(f\"The (stable) state at {n} is \", exp_matmul(T, n, np.array([1, 0])))\n",
    "print(f\"The (stable) state at {n-1} is \", exp_matmul(T, n-1, np.array([1, 0])))"
   ]
  },
  {
   "cell_type": "markdown",
   "id": "5f702142",
   "metadata": {},
   "source": [
    "- Conditional on being rainy, plot a KDE of the `PRCP` variable.\n"
   ]
  },
  {
   "cell_type": "code",
   "execution_count": 38,
   "id": "d9eb7f6e",
   "metadata": {},
   "outputs": [
    {
     "data": {
      "text/plain": [
       "<Axes: xlabel='PRCP', ylabel='Density'>"
      ]
     },
     "execution_count": 38,
     "metadata": {},
     "output_type": "execute_result"
    },
    {
     "data": {
      "image/png": "[encoded data removed]",
      "text/plain": [
       "<Figure size 640x480 with 1 Axes>"
      ]
     },
     "metadata": {},
     "output_type": "display_data"
    }
   ],
   "source": [
    "import seaborn as sns\n",
    "df_rained = df[df['rain'] == 1]\n",
    "sns.kdeplot(df_rained['PRCP'])"
   ]
  },
  {
   "cell_type": "markdown",
   "id": "1230711f",
   "metadata": {},
   "source": [
    "- Describe one way of making your model better for forecasting and simulation the weather.\n",
    "\n",
    "We could use n-gram states where each state is a sequence of previous states. We would then be using the weather today and yesterday to predict the weather tomorrow and the next day.\n",
    "\n",
    "We could also split the data into 4 categories corresponding to the 4 seasons of the year and make a model for each season.\n"
   ]
  },
  {
   "cell_type": "markdown",
   "id": "ff8d7881",
   "metadata": {},
   "source": [
    "Congratulations, you now are a non-parametric meteorologist!"
   ]
  },
  {
   "cell_type": "markdown",
   "id": "b953c2c4",
   "metadata": {},
   "source": [
    "4. Taxicab trajectories: Using the pickled taxicab data, we want to complete the exercise from class.\n",
    "\n",
    "- (a) For the taxicab trajectory data, determine your state space and clean your sequences of cab rides.\n",
    "- (b) Compute the transition matrix for the taxicab data between neighborhoods in Manhattan. Plot it in a heat map. What are the most common routes?\n",
    "- (c) Explain why taxicabs are most likely order 1, and not 2 or more.\n",
    "- (d) Starting at Hell's Kitchen, create a sequence of forecasts of where the cab is likely to be in 2, 3, 5, and 10 trips\n",
    "- (e) Starting at any neighborhood, iterate your forecast until it is no longer changing very much. Where do cabs spend most of their time working in Manhattan?"
   ]
  },
  {
   "cell_type": "code",
   "execution_count": 12,
   "id": "07c52e3b",
   "metadata": {},
   "outputs": [
    {
     "name": "stdout",
     "output_type": "stream",
     "text": [
      "1000\n"
     ]
    },
    {
     "data": {
      "text/plain": [
       "0     Outside Manhattan\n",
       "0     Outside Manhattan\n",
       "0     Outside Manhattan\n",
       "0     Outside Manhattan\n",
       "0     Outside Manhattan\n",
       "            ...        \n",
       "29                 SoHo\n",
       "29                 SoHo\n",
       "13    Greenwich Village\n",
       "3               Chelsea\n",
       "3               Chelsea\n",
       "Name: nbhd, Length: 26026, dtype: object"
      ]
     },
     "execution_count": 12,
     "metadata": {},
     "output_type": "execute_result"
    }
   ],
   "source": [
    "# step 0, load the pkl data\n",
    "import pickle\n",
    "import pandas as pd\n",
    "\n",
    "filepath = \"../data/taxicab.pkl\"\n",
    "\n",
    "with open(filepath, \"rb\") as file:\n",
    "    data = pickle.load(file)\n",
    "\n",
    "print(len(data))\n",
    "data[0]\n",
    "\n",
    "# type(data)     # data is a list\n",
    "# data[0]        # each row is a series\n"
   ]
  },
  {
   "cell_type": "code",
   "execution_count": 14,
   "id": "db12ae7e",
   "metadata": {},
   "outputs": [
    {
     "name": "stdout",
     "output_type": "stream",
     "text": [
      "['Outside Manhattan', 'Battery Park City', 'Chelsea', 'East Village', 'Roosevelt Island', 'SoHo', 'Little Italy', 'Theater District', 'Central Park', 'Governors Island', 'NoHo', 'Gramercy', 'Liberty Island', 'Greenwich Village', 'Financial District', 'Morningside Heights', 'Upper West Side', \"Hell's Kitchen\", 'West Village', 'Chinatown', 'Midtown', 'Flatiron District', 'Two Bridges', 'Washington Heights', 'Inwood', 'Civic Center', 'Kips Bay', 'Marble Hill', 'Upper East Side', 'Tribeca', 'Stuyvesant Town', 'Lower East Side', 'Ellis Island', 'Nolita', 'Murray Hill', 'Harlem', \"Randall's Island\", 'East Harlem']\n"
     ]
    }
   ],
   "source": [
    "# step 1: establish state space\n",
    "states = set(data[0])\n",
    "\n",
    "for i in range(len(data)):\n",
    "    trip_i = set(data[i])\n",
    "    states = states.union(trip_i)\n",
    "\n",
    "#print(states)\n",
    "#print(len(states)) # 38 items\n",
    "\n",
    "states = list(states)\n",
    "print(states)"
   ]
  },
  {
   "cell_type": "markdown",
   "id": "003231d5",
   "metadata": {},
   "source": [
    "- ABOVE CODE BLOCK YIELDS THE CLEANED STATE SPACE (a)"
   ]
  },
  {
   "cell_type": "code",
   "execution_count": 15,
   "id": "42be3a0e",
   "metadata": {},
   "outputs": [
    {
     "name": "stdout",
     "output_type": "stream",
     "text": [
      "Transition Counts:\n",
      " [[1.203902e+06 1.240900e+04 9.296400e+04 ... 1.272900e+04 6.170000e+02\n",
      "  1.886200e+04]\n",
      " [1.445500e+04 6.009300e+04 1.642000e+04 ... 3.070000e+02 8.000000e+00\n",
      "  4.730000e+02]\n",
      " [6.007500e+04 1.621400e+04 6.623970e+05 ... 5.923000e+03 3.100000e+01\n",
      "  6.406000e+03]\n",
      " ...\n",
      " [1.779000e+04 2.900000e+02 8.981000e+03 ... 4.658500e+04 9.000000e+01\n",
      "  1.407500e+04]\n",
      " [7.950000e+02 6.000000e+00 1.020000e+02 ... 9.600000e+01 6.390000e+02\n",
      "  2.710000e+02]\n",
      " [2.594400e+04 4.270000e+02 7.742000e+03 ... 1.527800e+04 5.950000e+02\n",
      "  7.192200e+04]]\n"
     ]
    }
   ],
   "source": [
    "# step 2: compute transition counts/matrix >> adapting code from bach.py\n",
    "# REMEMBER, it's a normalized matrix\n",
    "\n",
    "S = len(states)\n",
    "#T = len(bach)\n",
    "tr_counts = np.zeros( (S, S) ) # a 38 x 38 matrix of zeros\n",
    "\n",
    "#print(tr_counts.shape)\n",
    "\n",
    "\n",
    "## Compute transition counts:\n",
    "for trip in data:\n",
    "    seq = np.array(trip)\n",
    "    for t in range(1,len(seq)): # check two lines down for why we start at 1\n",
    "\n",
    "        \"\"\"\n",
    "        you could also go from range(0, len(seq)-1):\n",
    "            # current state (rather than previous state)\n",
    "            # next state  (current state covered already)\n",
    "        \"\"\"\n",
    "\n",
    "        # Current and next tokens:\n",
    "        x_tm1 = seq[t-1] # previous state >> this is why we start at 1! bc we are collecting previous state.\n",
    "        x_t = seq[t] # current state\n",
    "        # Determine transition indices:\n",
    "        index_from = states.index(x_tm1)\n",
    "        index_to = states.index(x_t)\n",
    "        # Update transition counts:\n",
    "        tr_counts[index_to, index_from] += 1\n",
    "\n",
    "print('Transition Counts:\\n', tr_counts)\n"
   ]
  },
  {
   "cell_type": "code",
   "execution_count": 16,
   "id": "019f6a28",
   "metadata": {},
   "outputs": [
    {
     "name": "stdout",
     "output_type": "stream",
     "text": [
      "                     Outside Manhattan  Battery Park City  Chelsea  \\\n",
      "Outside Manhattan                 0.51               0.05     0.05   \n",
      "Battery Park City                 0.01               0.26     0.01   \n",
      "Chelsea                           0.03               0.07     0.33   \n",
      "East Village                      0.03               0.02     0.03   \n",
      "Roosevelt Island                  0.00               0.00     0.00   \n",
      "SoHo                              0.02               0.05     0.02   \n",
      "Little Italy                      0.00               0.00     0.00   \n",
      "Theater District                  0.02               0.02     0.04   \n",
      "Central Park                      0.00               0.00     0.01   \n",
      "Governors Island                  0.00               0.00     0.00   \n",
      "NoHo                              0.01               0.00     0.01   \n",
      "Gramercy                          0.01               0.01     0.02   \n",
      "Liberty Island                    0.00               0.00     0.00   \n",
      "Greenwich Village                 0.01               0.02     0.03   \n",
      "Financial District                0.02               0.09     0.01   \n",
      "Morningside Heights               0.00               0.00     0.00   \n",
      "Upper West Side                   0.02               0.02     0.03   \n",
      "Hell's Kitchen                    0.02               0.03     0.07   \n",
      "West Village                      0.01               0.06     0.06   \n",
      "Chinatown                         0.01               0.01     0.00   \n",
      "Midtown                           0.08               0.07     0.13   \n",
      "Flatiron District                 0.01               0.01     0.03   \n",
      "Two Bridges                       0.00               0.00     0.00   \n",
      "Washington Heights                0.00               0.00     0.00   \n",
      "Inwood                            0.00               0.00     0.00   \n",
      "Civic Center                      0.01               0.00     0.00   \n",
      "Kips Bay                          0.01               0.01     0.02   \n",
      "Marble Hill                       0.00               0.00     0.00   \n",
      "Upper East Side                   0.06               0.02     0.04   \n",
      "Tribeca                           0.02               0.12     0.01   \n",
      "Stuyvesant Town                   0.00               0.00     0.00   \n",
      "Lower East Side                   0.04               0.01     0.01   \n",
      "Ellis Island                      0.00               0.00     0.00   \n",
      "Nolita                            0.01               0.00     0.00   \n",
      "Murray Hill                       0.01               0.01     0.02   \n",
      "Harlem                            0.01               0.00     0.00   \n",
      "Randall's Island                  0.00               0.00     0.00   \n",
      "East Harlem                       0.01               0.00     0.00   \n",
      "\n",
      "                     East Village  Roosevelt Island  SoHo  Little Italy  \\\n",
      "Outside Manhattan            0.08              0.28  0.07          0.08   \n",
      "Battery Park City            0.01              0.00  0.02          0.01   \n",
      "Chelsea                      0.07              0.03  0.09          0.06   \n",
      "East Village                 0.27              0.02  0.05          0.06   \n",
      "Roosevelt Island             0.00              0.12  0.00          0.00   \n",
      "SoHo                         0.03              0.01  0.25          0.11   \n",
      "Little Italy                 0.00              0.00  0.00          0.10   \n",
      "Theater District             0.01              0.02  0.02          0.03   \n",
      "Central Park                 0.00              0.01  0.00          0.00   \n",
      "Governors Island             0.00              0.00  0.00          0.00   \n",
      "NoHo                         0.02              0.00  0.02          0.03   \n",
      "Gramercy                     0.07              0.01  0.02          0.02   \n",
      "Liberty Island               0.00              0.00  0.00          0.00   \n",
      "Greenwich Village            0.04              0.01  0.05          0.03   \n",
      "Financial District           0.02              0.01  0.03          0.03   \n",
      "Morningside Heights          0.00              0.00  0.00          0.00   \n",
      "Upper West Side              0.02              0.02  0.02          0.02   \n",
      "Hell's Kitchen               0.02              0.02  0.02          0.03   \n",
      "West Village                 0.04              0.01  0.09          0.04   \n",
      "Chinatown                    0.01              0.00  0.01          0.03   \n",
      "Midtown                      0.09              0.15  0.08          0.08   \n",
      "Flatiron District            0.02              0.01  0.02          0.01   \n",
      "Two Bridges                  0.00              0.00  0.00          0.00   \n",
      "Washington Heights           0.00              0.00  0.00          0.00   \n",
      "Inwood                       0.00              0.00  0.00          0.00   \n",
      "Civic Center                 0.00              0.00  0.01          0.01   \n",
      "Kips Bay                     0.04              0.02  0.01          0.01   \n",
      "Marble Hill                  0.00              0.00  0.00          0.00   \n",
      "Upper East Side              0.04              0.19  0.03          0.03   \n",
      "Tribeca                      0.01              0.01  0.04          0.02   \n",
      "Stuyvesant Town              0.02              0.00  0.00          0.00   \n",
      "Lower East Side              0.03              0.01  0.02          0.04   \n",
      "Ellis Island                 0.00              0.00  0.00          0.00   \n",
      "Nolita                       0.01              0.00  0.02          0.08   \n",
      "Murray Hill                  0.03              0.02  0.02          0.02   \n",
      "Harlem                       0.00              0.00  0.00          0.00   \n",
      "Randall's Island             0.00              0.00  0.00          0.00   \n",
      "East Harlem                  0.01              0.01  0.00          0.00   \n",
      "\n",
      "                     Theater District  Central Park  Governors Island  ...  \\\n",
      "Outside Manhattan                0.07          0.03              0.33  ...   \n",
      "Battery Park City                0.01          0.00              0.00  ...   \n",
      "Chelsea                          0.09          0.03              0.17  ...   \n",
      "East Village                     0.01          0.01              0.08  ...   \n",
      "Roosevelt Island                 0.00          0.00              0.00  ...   \n",
      "SoHo                             0.01          0.01              0.00  ...   \n",
      "Little Italy                     0.00          0.00              0.00  ...   \n",
      "Theater District                 0.21          0.04              0.00  ...   \n",
      "Central Park                     0.02          0.14              0.00  ...   \n",
      "Governors Island                 0.00          0.00              0.17  ...   \n",
      "NoHo                             0.00          0.00              0.00  ...   \n",
      "Gramercy                         0.01          0.01              0.08  ...   \n",
      "Liberty Island                   0.00          0.00              0.00  ...   \n",
      "Greenwich Village                0.01          0.01              0.00  ...   \n",
      "Financial District               0.01          0.00              0.08  ...   \n",
      "Morningside Heights              0.00          0.01              0.00  ...   \n",
      "Upper West Side                  0.07          0.22              0.00  ...   \n",
      "Hell's Kitchen                   0.12          0.04              0.00  ...   \n",
      "West Village                     0.02          0.01              0.00  ...   \n",
      "Chinatown                        0.00          0.00              0.00  ...   \n",
      "Midtown                          0.21          0.19              0.00  ...   \n",
      "Flatiron District                0.01          0.01              0.00  ...   \n",
      "Two Bridges                      0.00          0.00              0.00  ...   \n",
      "Washington Heights               0.00          0.00              0.00  ...   \n",
      "Inwood                           0.00          0.00              0.00  ...   \n",
      "Civic Center                     0.00          0.00              0.00  ...   \n",
      "Kips Bay                         0.01          0.00              0.00  ...   \n",
      "Marble Hill                      0.00          0.00              0.00  ...   \n",
      "Upper East Side                  0.06          0.20              0.00  ...   \n",
      "Tribeca                          0.01          0.00              0.00  ...   \n",
      "Stuyvesant Town                  0.00          0.00              0.08  ...   \n",
      "Lower East Side                  0.00          0.00              0.00  ...   \n",
      "Ellis Island                     0.00          0.00              0.00  ...   \n",
      "Nolita                           0.00          0.00              0.00  ...   \n",
      "Murray Hill                      0.02          0.01              0.00  ...   \n",
      "Harlem                           0.01          0.01              0.00  ...   \n",
      "Randall's Island                 0.00          0.00              0.00  ...   \n",
      "East Harlem                      0.01          0.02              0.00  ...   \n",
      "\n",
      "                     Upper East Side  Tribeca  Stuyvesant Town  \\\n",
      "Outside Manhattan               0.05     0.07             0.05   \n",
      "Battery Park City               0.00     0.05             0.00   \n",
      "Chelsea                         0.03     0.08             0.07   \n",
      "East Village                    0.01     0.03             0.10   \n",
      "Roosevelt Island                0.00     0.00             0.00   \n",
      "SoHo                            0.01     0.09             0.01   \n",
      "Little Italy                    0.00     0.00             0.00   \n",
      "Theater District                0.02     0.02             0.01   \n",
      "Central Park                    0.03     0.00             0.00   \n",
      "Governors Island                0.00     0.00             0.00   \n",
      "NoHo                            0.00     0.01             0.01   \n",
      "Gramercy                        0.01     0.01             0.09   \n",
      "Liberty Island                  0.00     0.00             0.00   \n",
      "Greenwich Village               0.01     0.03             0.02   \n",
      "Financial District              0.01     0.05             0.02   \n",
      "Morningside Heights             0.00     0.00             0.00   \n",
      "Upper West Side                 0.07     0.02             0.02   \n",
      "Hell's Kitchen                  0.02     0.03             0.02   \n",
      "West Village                    0.01     0.08             0.02   \n",
      "Chinatown                       0.00     0.01             0.00   \n",
      "Midtown                         0.18     0.07             0.13   \n",
      "Flatiron District               0.01     0.01             0.02   \n",
      "Two Bridges                     0.00     0.00             0.00   \n",
      "Washington Heights              0.00     0.00             0.00   \n",
      "Inwood                          0.00     0.00             0.00   \n",
      "Civic Center                    0.00     0.01             0.00   \n",
      "Kips Bay                        0.01     0.01             0.09   \n",
      "Marble Hill                     0.00     0.00             0.00   \n",
      "Upper East Side                 0.46     0.03             0.06   \n",
      "Tribeca                         0.00     0.25             0.01   \n",
      "Stuyvesant Town                 0.00     0.00             0.14   \n",
      "Lower East Side                 0.00     0.02             0.02   \n",
      "Ellis Island                    0.00     0.00             0.00   \n",
      "Nolita                          0.00     0.01             0.00   \n",
      "Murray Hill                     0.02     0.01             0.04   \n",
      "Harlem                          0.01     0.00             0.00   \n",
      "Randall's Island                0.00     0.00             0.00   \n",
      "East Harlem                     0.03     0.00             0.01   \n",
      "\n",
      "                     Lower East Side  Ellis Island  Nolita  Murray Hill  \\\n",
      "Outside Manhattan               0.13          0.33    0.11         0.06   \n",
      "Battery Park City               0.01          0.00    0.01         0.00   \n",
      "Chelsea                         0.05          0.00    0.06         0.06   \n",
      "East Village                    0.15          0.00    0.09         0.03   \n",
      "Roosevelt Island                0.00          0.00    0.00         0.00   \n",
      "SoHo                            0.03          0.00    0.09         0.01   \n",
      "Little Italy                    0.00          0.33    0.01         0.00   \n",
      "Theater District                0.01          0.00    0.01         0.03   \n",
      "Central Park                    0.00          0.00    0.00         0.01   \n",
      "Governors Island                0.00          0.00    0.00         0.00   \n",
      "NoHo                            0.02          0.00    0.05         0.01   \n",
      "Gramercy                        0.03          0.00    0.03         0.03   \n",
      "Liberty Island                  0.00          0.00    0.00         0.00   \n",
      "Greenwich Village               0.03          0.00    0.04         0.02   \n",
      "Financial District              0.03          0.00    0.02         0.01   \n",
      "Morningside Heights             0.00          0.00    0.00         0.00   \n",
      "Upper West Side                 0.02          0.00    0.02         0.02   \n",
      "Hell's Kitchen                  0.02          0.00    0.02         0.03   \n",
      "West Village                    0.03          0.00    0.05         0.02   \n",
      "Chinatown                       0.02          0.00    0.01         0.00   \n",
      "Midtown                         0.06          0.00    0.07         0.26   \n",
      "Flatiron District               0.01          0.00    0.01         0.02   \n",
      "Two Bridges                     0.00          0.00    0.00         0.00   \n",
      "Washington Heights              0.00          0.00    0.00         0.00   \n",
      "Inwood                          0.00          0.00    0.00         0.00   \n",
      "Civic Center                    0.00          0.00    0.00         0.00   \n",
      "Kips Bay                        0.03          0.00    0.02         0.06   \n",
      "Marble Hill                     0.00          0.00    0.00         0.00   \n",
      "Upper East Side                 0.04          0.00    0.03         0.09   \n",
      "Tribeca                         0.01          0.33    0.02         0.01   \n",
      "Stuyvesant Town                 0.01          0.00    0.01         0.01   \n",
      "Lower East Side                 0.21          0.00    0.05         0.01   \n",
      "Ellis Island                    0.00          0.00    0.00         0.00   \n",
      "Nolita                          0.02          0.00    0.16         0.00   \n",
      "Murray Hill                     0.02          0.00    0.02         0.20   \n",
      "Harlem                          0.00          0.00    0.00         0.00   \n",
      "Randall's Island                0.00          0.00    0.00         0.00   \n",
      "East Harlem                     0.01          0.00    0.00         0.01   \n",
      "\n",
      "                     Harlem  Randall's Island  East Harlem  \n",
      "Outside Manhattan      0.06              0.17         0.06  \n",
      "Battery Park City      0.00              0.00         0.00  \n",
      "Chelsea                0.03              0.01         0.02  \n",
      "East Village           0.01              0.01         0.01  \n",
      "Roosevelt Island       0.00              0.00         0.00  \n",
      "SoHo                   0.00              0.00         0.00  \n",
      "Little Italy           0.00              0.00         0.00  \n",
      "Theater District       0.02              0.01         0.01  \n",
      "Central Park           0.04              0.02         0.06  \n",
      "Governors Island       0.00              0.00         0.00  \n",
      "NoHo                   0.00              0.00         0.00  \n",
      "Gramercy               0.00              0.00         0.01  \n",
      "Liberty Island         0.00              0.00         0.00  \n",
      "Greenwich Village      0.00              0.00         0.00  \n",
      "Financial District     0.00              0.00         0.00  \n",
      "Morningside Heights    0.09              0.01         0.01  \n",
      "Upper West Side        0.21              0.06         0.09  \n",
      "Hell's Kitchen         0.04              0.01         0.02  \n",
      "West Village           0.01              0.01         0.01  \n",
      "Chinatown              0.00              0.00         0.00  \n",
      "Midtown                0.07              0.06         0.10  \n",
      "Flatiron District      0.00              0.00         0.00  \n",
      "Two Bridges            0.00              0.00         0.00  \n",
      "Washington Heights     0.01              0.00         0.01  \n",
      "Inwood                 0.00              0.00         0.00  \n",
      "Civic Center           0.00              0.00         0.00  \n",
      "Kips Bay               0.00              0.00         0.01  \n",
      "Marble Hill            0.00              0.00         0.00  \n",
      "Upper East Side        0.08              0.22         0.28  \n",
      "Tribeca                0.00              0.00         0.00  \n",
      "Stuyvesant Town        0.00              0.00         0.00  \n",
      "Lower East Side        0.00              0.00         0.00  \n",
      "Ellis Island           0.00              0.00         0.00  \n",
      "Nolita                 0.00              0.00         0.00  \n",
      "Murray Hill            0.01              0.01         0.01  \n",
      "Harlem                 0.21              0.02         0.04  \n",
      "Randall's Island       0.00              0.18         0.00  \n",
      "East Harlem            0.07              0.17         0.23  \n",
      "\n",
      "[38 rows x 38 columns]\n"
     ]
    }
   ],
   "source": [
    "# Sum the transition counts by row >> numpy axis 0 is technically rows, but visually it's columns. \"rows\" is what we want\n",
    "sums = tr_counts.sum(axis=0, keepdims=True)\n",
    "#print('State proportions: \\n')\n",
    "\n",
    "# Normalize the transition count matrix to get proportions:\n",
    "tr_pr = np.divide(tr_counts, sums, \n",
    "                             out=np.zeros_like(tr_counts), \n",
    "                             where=sums!=0)\n",
    "\n",
    "#print('Transition Proportions:\\n')\n",
    "\n",
    "tr_df = pd.DataFrame(np.round(tr_pr,2), index=states, columns=states)\n",
    "print(tr_df)"
   ]
  },
  {
   "cell_type": "markdown",
   "id": "ca9a3bc1",
   "metadata": {},
   "source": [
    "- ABOVE CODE BLOCK YIELDS TRANSITION MATRIX (b)"
   ]
  },
  {
   "cell_type": "code",
   "execution_count": 17,
   "id": "49bc8570",
   "metadata": {},
   "outputs": [],
   "source": [
    "# import numpy as np\n",
    "import pandas as pd\n",
    "import seaborn as sns\n",
    "import matplotlib.pyplot as plt\n",
    "import networkx as nx"
   ]
  },
  {
   "cell_type": "code",
   "execution_count": 18,
   "id": "61529bb9",
   "metadata": {},
   "outputs": [
    {
     "data": {
      "image/png": "[encoded data removed]",
      "text/plain": [
       "<Figure size 1200x1000 with 2 Axes>"
      ]
     },
     "metadata": {},
     "output_type": "display_data"
    }
   ],
   "source": [
    "plt.figure(figsize=(12, 10))\n",
    "sns.heatmap(tr_pr, \n",
    "            cmap='Blues',    \n",
    "            square=True,          \n",
    "            xticklabels=states,\n",
    "            yticklabels=states,\n",
    "            cbar_kws={'label': 'Transition Probability'})\n",
    "\n",
    "plt.title('Transition Probabilities')\n",
    "plt.xlabel('...To State')\n",
    "plt.ylabel('From State...')\n",
    "plt.xticks(rotation=90)\n",
    "plt.yticks(rotation=0)\n",
    "plt.show()"
   ]
  },
  {
   "cell_type": "markdown",
   "id": "77e2228c",
   "metadata": {},
   "source": [
    "- (c) Explain why taxicabs are most likely order 1, and not 2 or more.\n",
    "\n",
    "_how much information about the past do we need to predict the future? Do we need a cab's  (or three) previous trips to predict where it will be? Or do we really only need 1?  From this Data, we really only need a single trip._"
   ]
  },
  {
   "cell_type": "markdown",
   "id": "9310bc8c",
   "metadata": {},
   "source": [
    "- (d) Starting at Hell's Kitchen, create a sequence of forecasts of where the cab is likely to be in 2, 3, 5, and 10 trips"
   ]
  },
  {
   "cell_type": "code",
   "execution_count": 19,
   "id": "0a83de20",
   "metadata": {},
   "outputs": [
    {
     "name": "stdout",
     "output_type": "stream",
     "text": [
      "['Outside Manhattan', 'Battery Park City', 'Chelsea', 'East Village', 'Roosevelt Island', 'SoHo', 'Little Italy', 'Theater District', 'Central Park', 'Governors Island', 'NoHo', 'Gramercy', 'Liberty Island', 'Greenwich Village', 'Financial District', 'Morningside Heights', 'Upper West Side', \"Hell's Kitchen\", 'West Village', 'Chinatown', 'Midtown', 'Flatiron District', 'Two Bridges', 'Washington Heights', 'Inwood', 'Civic Center', 'Kips Bay', 'Marble Hill', 'Upper East Side', 'Tribeca', 'Stuyvesant Town', 'Lower East Side', 'Ellis Island', 'Nolita', 'Murray Hill', 'Harlem', \"Randall's Island\", 'East Harlem']\n"
     ]
    }
   ],
   "source": [
    "print(states)\n",
    "for i in range(len(states)):\n",
    "    if states[i] == \"Hell's Kitchen\":\n",
    "        starting_point = i"
   ]
  },
  {
   "cell_type": "code",
   "execution_count": 20,
   "id": "b61e4632",
   "metadata": {},
   "outputs": [
    {
     "name": "stdout",
     "output_type": "stream",
     "text": [
      "[0. 0. 0. 0. 0. 0. 0. 0. 0. 0. 0. 0. 0. 0. 0. 0. 0. 1. 0. 0. 0. 0. 0. 0.\n",
      " 0. 0. 0. 0. 0. 0. 0. 0. 0. 0. 0. 0. 0. 0.]\n"
     ]
    }
   ],
   "source": [
    "# Hell's Kitchen is at index 18 (starting at 0) >> saved as starting_point\n",
    "\n",
    "init = np.zeros(len(states)) # a 38 x 38 matrix of zeros\n",
    "init[starting_point] = 1\n",
    "print(init)"
   ]
  },
  {
   "cell_type": "code",
   "execution_count": 21,
   "id": "afa7f3f3",
   "metadata": {},
   "outputs": [],
   "source": [
    "#tr_df is the transition matrix\n",
    "init2 = init\n",
    "for i in range(2):\n",
    "    init2 = tr_df @ init2\n",
    "#print(init2)"
   ]
  },
  {
   "cell_type": "code",
   "execution_count": 22,
   "id": "40f2b1f8",
   "metadata": {},
   "outputs": [],
   "source": [
    "# 3 5 10\n",
    "\n",
    "#tr_df is the transition matrix\n",
    "\n",
    "init3 = init\n",
    "\n",
    "for i in range(3):\n",
    "   init3 = tr_df@init3 \n",
    "\n",
    "#print(init3)"
   ]
  },
  {
   "cell_type": "code",
   "execution_count": 23,
   "id": "ab7bda40",
   "metadata": {},
   "outputs": [],
   "source": [
    "# 5 10\n",
    "\n",
    "#tr_df is the transition matrix\n",
    "\n",
    "init4 = init\n",
    "for i in range(5):\n",
    "   init4 = tr_df@init4 \n",
    "\n",
    "#print(init4)"
   ]
  },
  {
   "cell_type": "code",
   "execution_count": 24,
   "id": "565305ad",
   "metadata": {},
   "outputs": [],
   "source": [
    "# 10\n",
    "\n",
    "#tr_df is the transition matrix\n",
    "\n",
    "init5 = init\n",
    "\n",
    "for i in range(10):\n",
    "   init5 = tr_df@init5\n",
    "\n",
    "#print(init5)"
   ]
  },
  {
   "cell_type": "code",
   "execution_count": 25,
   "id": "ffb90da0",
   "metadata": {},
   "outputs": [
    {
     "name": "stdout",
     "output_type": "stream",
     "text": [
      "                     initial  after 2 trips  after 3 trips  after 5 trips  \\\n",
      "Outside Manhattan        0.0         0.0766       0.089282       0.097469   \n",
      "Battery Park City        0.0         0.0097       0.008982       0.008595   \n",
      "Chelsea                  0.0         0.1061       0.095505       0.085876   \n",
      "East Village             0.0         0.0228       0.029680       0.034309   \n",
      "Roosevelt Island         0.0         0.0000       0.000000       0.000000   \n",
      "SoHo                     0.0         0.0164       0.019714       0.021896   \n",
      "Little Italy             0.0         0.0000       0.000066       0.000146   \n",
      "Theater District         0.0         0.0606       0.047475       0.038952   \n",
      "Central Park             0.0         0.0140       0.014166       0.013242   \n",
      "Governors Island         0.0         0.0000       0.000000       0.000000   \n",
      "NoHo                     0.0         0.0034       0.005266       0.006474   \n",
      "Gramercy                 0.0         0.0155       0.018399       0.020209   \n",
      "Liberty Island           0.0         0.0000       0.000000       0.000000   \n",
      "Greenwich Village        0.0         0.0173       0.020318       0.021701   \n",
      "Financial District       0.0         0.0142       0.016277       0.017840   \n",
      "Morningside Heights      0.0         0.0031       0.003825       0.003505   \n",
      "Upper West Side          0.0         0.0988       0.088687       0.076479   \n",
      "Hell's Kitchen           1.0         0.1180       0.074535       0.055231   \n",
      "West Village             0.0         0.0358       0.036322       0.035551   \n",
      "Chinatown                0.0         0.0014       0.002340       0.003100   \n",
      "Midtown                  0.0         0.1708       0.169221       0.161969   \n",
      "Flatiron District        0.0         0.0150       0.016396       0.016625   \n",
      "Two Bridges              0.0         0.0000       0.000000       0.000000   \n",
      "Washington Heights       0.0         0.0012       0.001439       0.001301   \n",
      "Inwood                   0.0         0.0000       0.000012       0.000015   \n",
      "Civic Center             0.0         0.0008       0.001310       0.001694   \n",
      "Kips Bay                 0.0         0.0150       0.017507       0.018990   \n",
      "Marble Hill              0.0         0.0000       0.000000       0.000000   \n",
      "Upper East Side          0.0         0.0910       0.109661       0.117386   \n",
      "Tribeca                  0.0         0.0138       0.015212       0.016061   \n",
      "Stuyvesant Town          0.0         0.0010       0.001909       0.002655   \n",
      "Lower East Side          0.0         0.0117       0.013292       0.014976   \n",
      "Ellis Island             0.0         0.0000       0.000000       0.000000   \n",
      "Nolita                   0.0         0.0016       0.002693       0.003565   \n",
      "Murray Hill              0.0         0.0207       0.024665       0.026069   \n",
      "Harlem                   0.0         0.0092       0.008332       0.007461   \n",
      "Randall's Island         0.0         0.0000       0.000000       0.000000   \n",
      "East Harlem              0.0         0.0117       0.012422       0.012748   \n",
      "\n",
      "                     after 10 trips  \n",
      "Outside Manhattan          0.095549  \n",
      "Battery Park City          0.008349  \n",
      "Chelsea                    0.079775  \n",
      "East Village               0.034146  \n",
      "Roosevelt Island           0.000000  \n",
      "SoHo                       0.021662  \n",
      "Little Italy               0.000169  \n",
      "Theater District           0.035247  \n",
      "Central Park               0.012019  \n",
      "Governors Island           0.000000  \n",
      "NoHo                       0.006544  \n",
      "Gramercy                   0.019774  \n",
      "Liberty Island             0.000000  \n",
      "Greenwich Village          0.021047  \n",
      "Financial District         0.017702  \n",
      "Morningside Heights        0.002974  \n",
      "Upper West Side            0.067842  \n",
      "Hell's Kitchen             0.049085  \n",
      "West Village               0.033862  \n",
      "Chinatown                  0.003229  \n",
      "Midtown                    0.151134  \n",
      "Flatiron District          0.015862  \n",
      "Two Bridges                0.000000  \n",
      "Washington Heights         0.001109  \n",
      "Inwood                     0.000012  \n",
      "Civic Center               0.001747  \n",
      "Kips Bay                   0.018489  \n",
      "Marble Hill                0.000000  \n",
      "Upper East Side            0.111051  \n",
      "Tribeca                    0.015818  \n",
      "Stuyvesant Town            0.002755  \n",
      "Lower East Side            0.015014  \n",
      "Ellis Island               0.000000  \n",
      "Nolita                     0.003702  \n",
      "Murray Hill                0.024942  \n",
      "Harlem                     0.006697  \n",
      "Randall's Island           0.000000  \n",
      "East Harlem                0.012004  \n"
     ]
    }
   ],
   "source": [
    "projections = pd.DataFrame({\"initial\": init,\n",
    "                            \"after 2 trips\": init2,\n",
    "                            \"after 3 trips\": init3,\n",
    "                            \"after 5 trips\": init4,\n",
    "                            \"after 10 trips\": init5})\n",
    "print(projections)"
   ]
  },
  {
   "cell_type": "markdown",
   "id": "777e0443",
   "metadata": {},
   "source": [
    "- (e) Starting at any neighborhood, iterate your forecast until it is no longer changing very much. Where do cabs spend most of their time working in Manhattan?"
   ]
  },
  {
   "cell_type": "code",
   "execution_count": 26,
   "id": "c01190a4",
   "metadata": {},
   "outputs": [],
   "source": [
    "# starting neighborhood: \"Upper West Side\"\n",
    "\n",
    "#print(states)\n",
    "for i in range(len(states)):\n",
    "    if states[i] == \"Upper West Side\":\n",
    "        starting_point2 = i"
   ]
  },
  {
   "cell_type": "code",
   "execution_count": 28,
   "id": "9422c209",
   "metadata": {},
   "outputs": [],
   "source": [
    "#tr_df is the transition matrix\n",
    "\n",
    "init_part2 = np.zeros(len(states))\n",
    "init_part2[starting_point2] = 1\n",
    "\n",
    "#init_part2"
   ]
  },
  {
   "cell_type": "code",
   "execution_count": 29,
   "id": "5e1abb53",
   "metadata": {},
   "outputs": [],
   "source": [
    "longRange = []\n",
    "\n",
    "for i in range(100):\n",
    "    init_part2 = tr_df @ init_part2\n",
    "    longRange.append(init_part2)\n",
    "\n",
    "longRange2 = pd.DataFrame(longRange)\n",
    "#longRange2.head"
   ]
  },
  {
   "cell_type": "code",
   "execution_count": 30,
   "id": "93a94a4f",
   "metadata": {},
   "outputs": [
    {
     "data": {
      "text/plain": [
       "0     0.420000\n",
       "1     0.224200\n",
       "2     0.145504\n",
       "3     0.109381\n",
       "4     0.091125\n",
       "        ...   \n",
       "95    0.024835\n",
       "96    0.024552\n",
       "97    0.024272\n",
       "98    0.023995\n",
       "99    0.023722\n",
       "Name: Upper West Side, Length: 100, dtype: float64"
      ]
     },
     "execution_count": 30,
     "metadata": {},
     "output_type": "execute_result"
    }
   ],
   "source": [
    "longRange2[\"Upper West Side\"]"
   ]
  },
  {
   "cell_type": "code",
   "execution_count": 31,
   "id": "7ee256e0",
   "metadata": {},
   "outputs": [
    {
     "name": "stdout",
     "output_type": "stream",
     "text": [
      "Midtown\n"
     ]
    }
   ],
   "source": [
    "maxVal = np.max(longRange2.loc[99,:])\n",
    "#maxVal\n",
    "\n",
    "for i in range(len(longRange2.loc[99,:])):\n",
    "    if longRange2.iloc[99,i] == maxVal:\n",
    "        print(states[i])\n",
    "\n"
   ]
  },
  {
   "cell_type": "markdown",
   "id": "195524d3",
   "metadata": {},
   "source": [
    "_Most Manhattan taxis spend most of their time working in Midtown_"
   ]
  }
 ],
 "metadata": {
  "kernelspec": {
   "display_name": "base",
   "language": "python",
   "name": "python3"
  },
  "language_info": {
   "codemirror_mode": {
    "name": "ipython",
    "version": 3
   },
   "file_extension": ".py",
   "mimetype": "text/x-python",
   "name": "python",
   "nbconvert_exporter": "python",
   "pygments_lexer": "ipython3",
   "version": "3.13.5"
  }
 },
 "nbformat": 4,
 "nbformat_minor": 5
}
