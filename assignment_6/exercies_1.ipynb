{
 "cells": [
  {
   "cell_type": "markdown",
   "id": "dd21efe9",
   "metadata": {},
   "source": [
    "# Assignment 6\n",
    "### Do Question 6, and three more questions of your choice."
   ]
  },
  {
   "cell_type": "markdown",
   "id": "707067e4",
   "metadata": {},
   "source": [
    "### 1. Set review:\n",
    "\n",
    "- Operations on sets (hints: sketch venn-type diagrams, and showing $A=B$ is the same as $A \\subseteq B$ and $B \\subseteq A$):\n",
    "- $ (A \\backslash B) \\cup (A \\cap B) = A $\n",
    "- $ A \\cup ( B \\cap C) = (A \\cup B) \\cap (A \\cup C)$\n",
    "- $ A \\backslash (B \\cup C) = A\\backslash B \\cap A \\backslash C $ and $A \\backslash (B \\cap C) = A \\backslash B \\cup A \\backslash C$\n",
    "\n",
    "- Plot the following sets: \n",
    "    - $A = \\{x \\in \\mathbb{R}: x^2 -1 \\ge 0 \\}$ \n",
    "    - $B = \\{ (x,y) \\in \\mathbb{R}^2: 3x -2y \\ge 0 \\}$\n",
    "    - $C = \\{ (x,y) \\in \\mathbb{R}^2: xy \\ge 3 \\}$\n",
    "    - $D = \\{ (x_1,x_2) \\in \\mathbb{R}^2: x_1 \\ge 0, x_2 \\ge 0, x_1 + x_2 \\le 1 \\}$\n",
    "- The power set of $A$ is the set of all subsets of $A$, denoted $\\mathcal{P}(A)$. What is the power set of $\\{ 1, 2, 3 \\}$? (Hint: The empty set is a subset of every set; the whole set is a subset of itself.)"
   ]
  },
  {
   "cell_type": "markdown",
   "id": "c9209444",
   "metadata": {},
   "source": []
  }
 ],
 "metadata": {
  "kernelspec": {
   "display_name": "base",
   "language": "python",
   "name": "python3"
  },
  "language_info": {
   "codemirror_mode": {
    "name": "ipython",
    "version": 3
   },
   "file_extension": ".py",
   "mimetype": "text/x-python",
   "name": "python",
   "nbconvert_exporter": "python",
   "pygments_lexer": "ipython3",
   "version": "3.12.9"
  }
 },
 "nbformat": 4,
 "nbformat_minor": 5
}
