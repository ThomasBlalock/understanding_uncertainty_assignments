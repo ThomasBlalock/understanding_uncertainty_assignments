{
 "cells": [
  {
   "cell_type": "markdown",
   "id": "dd21efe9",
   "metadata": {},
   "source": [
    "# Assignment 6\n",
    "### Do Question 6, and three more questions of your choice."
   ]
  },
  {
   "cell_type": "markdown",
   "id": "9c527708",
   "metadata": {},
   "source": [
    "### 2. Probability space basics:\n",
    "\n",
    "- What are the outcomes for rolling a single, fair **THREE**-sided die? What's the set of all events? What are the probabilities of all the events?\n",
    "- What are the outcomes for rolling a fair **THREE**-sided die? What's the set of all events? What are the probabilities of all the events?\n",
    "- What about flipping a fair coin twice? (Hint: There are 4 outcomes, and $2^{4} = 16$ events.)\n",
    "- What about rolling the **THREE**-sided die twice, and adding the results? Don't write down the set of all the possible events, but describe briefly what it looks like and how large it is. (Hint: There are 5 outcomes, and $2^{5}=32$ possible events.)\n",
    "\n",
    "Obviously, a \"three-sided die\" doesn't exist, but this keeps you from spending a lot of time suffering in working out sets of events."
   ]
  },
  {
   "cell_type": "markdown",
   "id": "c9209444",
   "metadata": {},
   "source": [
    "Rolling a Three Sided Die with faces 1, 2, and 3\\\n",
    "Outcomes:{1,2,3}\\\n",
    "Events:{ø,1,2,3,12,13,23,123}\\\n",
    "p{1}=p{2}=p{3}=p\\\n",
    "p{1,2,3}=1\\\n",
    "3p=1\\\n",
    "p=1/3\\\n",
    "The probability of 1, 2, or 3 on a three-sided fair die is 1/3."
   ]
  },
  {
   "cell_type": "markdown",
   "id": "7bdd2845",
   "metadata": {},
   "source": [
    "Flipping a coin twice\n",
    "$$\n",
    "FlipCoinTwice = \\left[ \\begin{array}{c} HH & HT \\\\ TH & TT \n",
    "\\end{array} \\right]\n",
    "$$\n",
    "Outcomes:{HH, HT, TH, TT}\\\n",
    "Events:{ø, HH, HT, TH, TT, HHHT, HHTH, HHTT, HTTH, HTTT, THTT, HHHTTH, HHHTTT, HHTHTT, HTTHTT, HHHTTHTT}\\\n",
    "$$\n",
    "p\\{HH\\}=p\\{HT\\}=p\\{TH\\}=p\\{TT\\}=p\\\\\n",
    "p\\{HH,HT,TH,TT\\}=1\\\\\n",
    "4p=1\\\\\n",
    "p=1/4\n",
    "$$\n",
    "The probability of HH, HT, TH, or TT when flipping a coin twice is 1/4."
   ]
  },
  {
   "cell_type": "markdown",
   "id": "c79fdac4",
   "metadata": {},
   "source": [
    "Rolling a Three Sided Die and adding the results\n",
    "$$\n",
    "Added Results of Three Sided Die = \\left[ \\begin{array}{c} 1+1=2 & 1+2=3 & 1+3=4 \\\\ 2+1=3 & 2+2=4 & 2+3=5 \\\\ 3+1=4 & 3+2=5 & 3+3=6 \n",
    "\\end{array} \\right]\n",
    "$$\n",
    "Outcome:{2, 3, 4, 5, 6}\\\n",
    "Events:{Too many to list}\\\n",
    "Events:{\\\n",
    "$\\quad$ ø: 1\\\n",
    "$\\quad$ Single Combinations: 5\\\n",
    "$\\quad$ Double Combinations: 10\\\n",
    "$\\quad$ Triple Combinations: 10\\\n",
    "$\\quad$ Quadruple Combinations: 7\\\n",
    "$\\quad$ Quintuple Combinations: 1\\\n",
    "}\\\n",
    "Probabilities: {2($\\frac{1}{9}$),3($\\frac{2}{9}$),4($\\frac{3}{9}$),5($\\frac{2}{9}$),6($\\frac{1}{9}$)}"
   ]
  }
 ],
 "metadata": {
  "kernelspec": {
   "display_name": "ds6001",
   "language": "python",
   "name": "python3"
  },
  "language_info": {
   "codemirror_mode": {
    "name": "ipython",
    "version": 3
   },
   "file_extension": ".py",
   "mimetype": "text/x-python",
   "name": "python",
   "nbconvert_exporter": "python",
   "pygments_lexer": "ipython3",
   "version": "3.13.5"
  }
 },
 "nbformat": 4,
 "nbformat_minor": 5
}
