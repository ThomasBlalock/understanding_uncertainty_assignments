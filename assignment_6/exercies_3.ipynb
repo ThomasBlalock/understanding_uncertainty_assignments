{
 "cells": [
  {
   "cell_type": "markdown",
   "id": "dd21efe9",
   "metadata": {},
   "source": [
    "# Assignment 6\n",
    "### Do Question 6, and three more questions of your choice."
   ]
  },
  {
   "cell_type": "markdown",
   "id": "75676fb3",
   "metadata": {},
   "source": [
    "\n",
    "### 3. Random Variable Basics\n",
    "\n",
    "- Imagine rolling a fair single six-sided die. There are 6 outcomes, all equally likely. Derive the sample space and the space of events. What are the probabilities of the outcomes and events? \n",
    "- Consider a random variable that assigns the square root of the number of pips on the die to each outcome. Write code to simulate rolling a single six-sided die and computing the value of the random variable. Simulate 5000 rolls and plot the mass function and ECDF of the random variable.\n",
    "- Imagine rolling two fair six-sided die. Consider a random variable that adds up the pips on the dice. There are 11 outcomes (2 , 3, ..., 12), but not all are equally likely. Derive the sample space and **describe** the space of events. What are the probabilities of the outcomes?\n",
    "- Write code to simulate the random variable (rolling two six-sided die and adding the results together). Simulate 10000 rolls and plot the mass function and ECDF."
   ]
  },
  {
   "cell_type": "markdown",
   "id": "c9209444",
   "metadata": {},
   "source": []
  }
 ],
 "metadata": {
  "kernelspec": {
   "display_name": "base",
   "language": "python",
   "name": "python3"
  },
  "language_info": {
   "codemirror_mode": {
    "name": "ipython",
    "version": 3
   },
   "file_extension": ".py",
   "mimetype": "text/x-python",
   "name": "python",
   "nbconvert_exporter": "python",
   "pygments_lexer": "ipython3",
   "version": "3.12.9"
  }
 },
 "nbformat": 4,
 "nbformat_minor": 5
}
