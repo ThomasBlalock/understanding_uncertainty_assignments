{
 "cells": [
  {
   "cell_type": "markdown",
   "id": "dd21efe9",
   "metadata": {},
   "source": [
    "# Assignment 6\n",
    "### Do Question 6, and three more questions of your choice."
   ]
  },
  {
   "cell_type": "markdown",
   "id": "95f1f953",
   "metadata": {
    "vscode": {
     "languageId": "plaintext"
    }
   },
   "source": [
    "### 4. Roulette\n",
    "\n",
    "This question will be easiest if you read the whole thing, and come up with a clear plan for how you'll write the code.\n",
    "\n",
    "Roulette is a betting game. There are 37 possible outcomes: A green 0, and the numbers 1 to 36 in red and black. Here is a picture of the (American, not Euro, it has an extra green 00) betting board:\n",
    "\n",
    "![Roulette](./src/euro_roulette.jpg)\n",
    "\n",
    "To bet, you must pay a dollar, but then you get payouts that depend on how many slots are in your bet\n",
    "- Basic bets:\n",
    "    - Red or Black slots\n",
    "    - Odd or Even slots\n",
    "    - A single slots, like 20\n",
    "- More complex bets:\n",
    "    - Split: Two adjacent slots (e.g. {1,2})\n",
    "    - Square: Four adjacent slots (e.g. {1,2,4,5})\n",
    "    - Street: Three slots in a row (e.g. {1,2,3})\n",
    "    - Line: Six slots (e.g. {1,2,3,4,5,6})\n",
    "In general, you can only bet on 1, 2, 3, 4, 6 slots, 12 slots, or 18 slots. If your bet occurs when the wheel is spun, you gain 36/K-1 where $K$ is the number of slots you bet on; if not, you lose a dollar and get -1.\n",
    "\n",
    "- Write code to model spinning the roulette wheel, including the colors and numbers (you could make two lists of number and color and draw a random number between 0 and 37... or use a dataframe with color and number variables and sample it... or use a dict with key to number/color pairs...)\n",
    "- Describe the probability space associated with the roulette wheel: Outcomes, events, probabilities (If there are 37 outcomes, there are $2^{37}= 137,438,953,472$ events, by the way)\n",
    "- You wrote code to generate a spin of the roulette wheel. Now write a function that takes a basic or complex bet as an argument, and returns the result for the player (win or lose, and the payout 36/K-1 or -1)\n",
    "- Simulate betting on red, betting on odd, betting on 7, a split, and a line 1000 times each.\n",
    "- Compute the average values for the bets you just simulated. What are the expected average payoffs?"
   ]
  },
  {
   "cell_type": "markdown",
   "id": "c9209444",
   "metadata": {},
   "source": []
  }
 ],
 "metadata": {
  "kernelspec": {
   "display_name": "base",
   "language": "python",
   "name": "python3"
  },
  "language_info": {
   "codemirror_mode": {
    "name": "ipython",
    "version": 3
   },
   "file_extension": ".py",
   "mimetype": "text/x-python",
   "name": "python",
   "nbconvert_exporter": "python",
   "pygments_lexer": "ipython3",
   "version": "3.12.9"
  }
 },
 "nbformat": 4,
 "nbformat_minor": 5
}
