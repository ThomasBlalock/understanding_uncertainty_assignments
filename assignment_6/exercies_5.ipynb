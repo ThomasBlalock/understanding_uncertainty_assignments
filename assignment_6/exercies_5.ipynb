{
 "cells": [
  {
   "cell_type": "markdown",
   "id": "dd21efe9",
   "metadata": {},
   "source": [
    "# Assignment 6\n",
    "### Do Question 6, and three more questions of your choice."
   ]
  },
  {
   "cell_type": "markdown",
   "id": "6bc9caa6",
   "metadata": {},
   "source": [
    "### 5. CDF and PDF Basics\n",
    "\n",
    "- Verify the following functions are distribution functions and compute their density functions. Plot the distribution and density.\n",
    "\n",
    "1. $F(x) = \\begin{cases}\n",
    "0, & x \\le 0 \\\\\n",
    "\\sqrt{x}, & 0 \\le x \\le 1 \\\\\n",
    "1, & x \\ge 1 \n",
    "\\end{cases}\n",
    "$\n",
    "2. $F(x) = \\dfrac{1}{1+e^{-x}}$\n",
    "3. For $ a < b < c$,\n",
    "$\n",
    "F(x) = \\begin{cases}\n",
    "0, & x \\le 0 \\\\\n",
    "\\frac{(x-a)^2}{(b-a)(b-c)}, & a \\le x \\le c \\\\\n",
    "1 - \\frac{(b-x)^2}{(b-a)(b-c)}, & c < x < b \\\\\n",
    "1, & x \\ge b\n",
    "\\end{cases}\n",
    "$\n",
    "4. $ F(x) = \\begin{cases}\n",
    "0, & x <0 \\\\\n",
    "1 - e^{-x}, & x>0\n",
    "\\end{cases}\n",
    "$\n",
    "5. $ F(x) = \\begin{cases}\n",
    "0, & x \\le 0 \\\\\n",
    "x, & 0 < x < 1\\\\\n",
    "1, & x \\ge 1\n",
    "\\end{cases}\n",
    "$"
   ]
  },
  {
   "cell_type": "markdown",
   "id": "c9209444",
   "metadata": {},
   "source": []
  }
 ],
 "metadata": {
  "kernelspec": {
   "display_name": "base",
   "language": "python",
   "name": "python3"
  },
  "language_info": {
   "codemirror_mode": {
    "name": "ipython",
    "version": 3
   },
   "file_extension": ".py",
   "mimetype": "text/x-python",
   "name": "python",
   "nbconvert_exporter": "python",
   "pygments_lexer": "ipython3",
   "version": "3.12.9"
  }
 },
 "nbformat": 4,
 "nbformat_minor": 5
}
