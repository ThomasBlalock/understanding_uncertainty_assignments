{
 "cells": [
  {
   "cell_type": "markdown",
   "id": "dd21efe9",
   "metadata": {},
   "source": [
    "# Assignment 6\n",
    "### Do Question 6, and three more questions of your choice."
   ]
  },
  {
   "cell_type": "markdown",
   "id": "f64444d2",
   "metadata": {},
   "source": [
    "### 6. Some Common Distributions\n",
    "\n",
    "For the following distributions:\n",
    "- Determine the support\n",
    "- Compute the density from the distribution for the logistic and exponential distributions (take a derivative)\n",
    "- Plot the density and distribution for a variety of parameter values\n",
    "- Take a sample of 1000 draws $(x_1, x_2, ..., x_{1000})$ from the distribution, plot a KDE and ECDF, visually compare with the theoretical pdf/cdf\n",
    "- Find an example of this general type of PDF/CDF from the Metabric cancer data\n",
    "\n",
    "You can use https://docs.scipy.org/doc/scipy/reference/stats.html to generate values for the pdf/cdf and generate samples of random variates.\n",
    "\n",
    "\n",
    "- Logistic distribution (similar to normal): \n",
    "$$\n",
    "F(x; \\sigma) = \\dfrac{1}{1+e^{-x/\\sigma}} \n",
    "$$\n",
    "with $\\sigma >0$.\n",
    "- Exponential distribution (similar to log-normal):\n",
    "$$\n",
    "F_X(x) = \\begin{cases}\n",
    "0, & x<0 \\\\\n",
    "1 - e^{-\\lambda x}, & x \\ge 0,\n",
    "\\end{cases}\n",
    "$$\n",
    "with $\\lambda > 0$.\n",
    "- Negative Binomial (similar to Poisson): The probability mass function for positive integers is:\n",
    "$$\n",
    "f(k;r,p) = \\dfrac{(k+r-1)!}{k!(r-1)!}(1-p)^k p^r, \\quad \\text{ for $k=0,...n$}\n",
    "$$\n",
    "You can interpret this as follows: Flip a coin that comes up heads with probability $p$ until you get $r$ heads, and then stop. What is the probability of stopping at each $k=0,1,2,...$?\n",
    "- Categorical (similar to Bernoulli): The probability mass function over $k = 1, 2, ..., K$ categories is\n",
    "$$\n",
    "f(k;p_1,...,p_K) = p_1^{k=1}p_2^{k=2}...p_K^{k=K}\n",
    "$$\n",
    "where $0 \\le p_i \\le 1$ and $ \\sum_{k=1}^K p_k = 1$.\n"
   ]
  },
  {
   "cell_type": "markdown",
   "id": "c9209444",
   "metadata": {},
   "source": []
  }
 ],
 "metadata": {
  "kernelspec": {
   "display_name": "base",
   "language": "python",
   "name": "python3"
  },
  "language_info": {
   "codemirror_mode": {
    "name": "ipython",
    "version": 3
   },
   "file_extension": ".py",
   "mimetype": "text/x-python",
   "name": "python",
   "nbconvert_exporter": "python",
   "pygments_lexer": "ipython3",
   "version": "3.12.9"
  }
 },
 "nbformat": 4,
 "nbformat_minor": 5
}
